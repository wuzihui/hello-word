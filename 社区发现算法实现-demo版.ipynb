{
 "cells": [
  {
   "cell_type": "code",
   "execution_count": 260,
   "metadata": {},
   "outputs": [],
   "source": [
    "import pandas as pd\n",
    "import numpy as np\n",
    "import os \n",
    "os.chdir(r'F:\\社区发现算法实现\\社区发现demo')"
   ]
  },
  {
   "cell_type": "markdown",
   "metadata": {},
   "source": [
    "## 导入原始数据\n",
    "1、data_id为客户ID数据  （为data_edges里 source 和 target的集合）  \n",
    "2、data_edges为边数据，可以为交易数据"
   ]
  },
  {
   "cell_type": "code",
   "execution_count": 261,
   "metadata": {},
   "outputs": [
    {
     "data": {
      "text/html": [
       "<div>\n",
       "<style scoped>\n",
       "    .dataframe tbody tr th:only-of-type {\n",
       "        vertical-align: middle;\n",
       "    }\n",
       "\n",
       "    .dataframe tbody tr th {\n",
       "        vertical-align: top;\n",
       "    }\n",
       "\n",
       "    .dataframe thead th {\n",
       "        text-align: right;\n",
       "    }\n",
       "</style>\n",
       "<table border=\"1\" class=\"dataframe\">\n",
       "  <thead>\n",
       "    <tr style=\"text-align: right;\">\n",
       "      <th></th>\n",
       "      <th>Source</th>\n",
       "      <th>Target</th>\n",
       "      <th>Type</th>\n",
       "      <th>Id</th>\n",
       "      <th>Label</th>\n",
       "      <th>timeset</th>\n",
       "      <th>Weight</th>\n",
       "    </tr>\n",
       "  </thead>\n",
       "  <tbody>\n",
       "    <tr>\n",
       "      <th>0</th>\n",
       "      <td>2</td>\n",
       "      <td>1</td>\n",
       "      <td>Undirected</td>\n",
       "      <td>0</td>\n",
       "      <td>NaN</td>\n",
       "      <td>NaN</td>\n",
       "      <td>1</td>\n",
       "    </tr>\n",
       "    <tr>\n",
       "      <th>1</th>\n",
       "      <td>3</td>\n",
       "      <td>1</td>\n",
       "      <td>Undirected</td>\n",
       "      <td>1</td>\n",
       "      <td>NaN</td>\n",
       "      <td>NaN</td>\n",
       "      <td>1</td>\n",
       "    </tr>\n",
       "    <tr>\n",
       "      <th>2</th>\n",
       "      <td>3</td>\n",
       "      <td>2</td>\n",
       "      <td>Undirected</td>\n",
       "      <td>2</td>\n",
       "      <td>NaN</td>\n",
       "      <td>NaN</td>\n",
       "      <td>1</td>\n",
       "    </tr>\n",
       "    <tr>\n",
       "      <th>3</th>\n",
       "      <td>4</td>\n",
       "      <td>1</td>\n",
       "      <td>Undirected</td>\n",
       "      <td>3</td>\n",
       "      <td>NaN</td>\n",
       "      <td>NaN</td>\n",
       "      <td>1</td>\n",
       "    </tr>\n",
       "    <tr>\n",
       "      <th>4</th>\n",
       "      <td>4</td>\n",
       "      <td>2</td>\n",
       "      <td>Undirected</td>\n",
       "      <td>4</td>\n",
       "      <td>NaN</td>\n",
       "      <td>NaN</td>\n",
       "      <td>1</td>\n",
       "    </tr>\n",
       "  </tbody>\n",
       "</table>\n",
       "</div>"
      ],
      "text/plain": [
       "   Source  Target        Type  Id  Label  timeset  Weight\n",
       "0       2       1  Undirected   0    NaN      NaN       1\n",
       "1       3       1  Undirected   1    NaN      NaN       1\n",
       "2       3       2  Undirected   2    NaN      NaN       1\n",
       "3       4       1  Undirected   3    NaN      NaN       1\n",
       "4       4       2  Undirected   4    NaN      NaN       1"
      ]
     },
     "execution_count": 261,
     "metadata": {},
     "output_type": "execute_result"
    }
   ],
   "source": [
    "data_edges=pd.read_csv(r'input_data\\data_edges.csv')\n",
    "data_edges.head()"
   ]
  },
  {
   "cell_type": "code",
   "execution_count": 284,
   "metadata": {},
   "outputs": [
    {
     "data": {
      "text/html": [
       "<div>\n",
       "<style scoped>\n",
       "    .dataframe tbody tr th:only-of-type {\n",
       "        vertical-align: middle;\n",
       "    }\n",
       "\n",
       "    .dataframe tbody tr th {\n",
       "        vertical-align: top;\n",
       "    }\n",
       "\n",
       "    .dataframe thead th {\n",
       "        text-align: right;\n",
       "    }\n",
       "</style>\n",
       "<table border=\"1\" class=\"dataframe\">\n",
       "  <thead>\n",
       "    <tr style=\"text-align: right;\">\n",
       "      <th></th>\n",
       "      <th>Id</th>\n",
       "      <th>Label</th>\n",
       "    </tr>\n",
       "  </thead>\n",
       "  <tbody>\n",
       "    <tr>\n",
       "      <th>0</th>\n",
       "      <td>1</td>\n",
       "      <td>a</td>\n",
       "    </tr>\n",
       "    <tr>\n",
       "      <th>1</th>\n",
       "      <td>2</td>\n",
       "      <td>b</td>\n",
       "    </tr>\n",
       "    <tr>\n",
       "      <th>2</th>\n",
       "      <td>3</td>\n",
       "      <td>c</td>\n",
       "    </tr>\n",
       "    <tr>\n",
       "      <th>3</th>\n",
       "      <td>4</td>\n",
       "      <td>d</td>\n",
       "    </tr>\n",
       "    <tr>\n",
       "      <th>4</th>\n",
       "      <td>5</td>\n",
       "      <td>e</td>\n",
       "    </tr>\n",
       "  </tbody>\n",
       "</table>\n",
       "</div>"
      ],
      "text/plain": [
       "   Id Label\n",
       "0   1     a\n",
       "1   2     b\n",
       "2   3     c\n",
       "3   4     d\n",
       "4   5     e"
      ]
     },
     "execution_count": 284,
     "metadata": {},
     "output_type": "execute_result"
    }
   ],
   "source": [
    "### data_id 为data_edges里 source 和 target的集合\n",
    "data_id=pd.read_csv(r'input_data\\data_id.csv')\n",
    "data_id=data_id.drop_duplicates()\n",
    "data_id.head()"
   ]
  },
  {
   "cell_type": "markdown",
   "metadata": {},
   "source": [
    "## 构建gml格式数据文件"
   ]
  },
  {
   "cell_type": "markdown",
   "metadata": {},
   "source": [
    "### 将数据转换为邻接矩阵"
   ]
  },
  {
   "cell_type": "code",
   "execution_count": 263,
   "metadata": {
    "scrolled": true
   },
   "outputs": [],
   "source": [
    "data_edges_jz=data_edges[['Source','Target','Weight']].groupby(['Source','Target']).count().unstack().fillna('0')['Weight']"
   ]
  },
  {
   "cell_type": "code",
   "execution_count": 264,
   "metadata": {
    "scrolled": true
   },
   "outputs": [
    {
     "data": {
      "text/html": [
       "<div>\n",
       "<style scoped>\n",
       "    .dataframe tbody tr th:only-of-type {\n",
       "        vertical-align: middle;\n",
       "    }\n",
       "\n",
       "    .dataframe tbody tr th {\n",
       "        vertical-align: top;\n",
       "    }\n",
       "\n",
       "    .dataframe thead th {\n",
       "        text-align: right;\n",
       "    }\n",
       "</style>\n",
       "<table border=\"1\" class=\"dataframe\">\n",
       "  <thead>\n",
       "    <tr style=\"text-align: right;\">\n",
       "      <th>Target</th>\n",
       "      <th>1</th>\n",
       "      <th>2</th>\n",
       "      <th>3</th>\n",
       "      <th>4</th>\n",
       "      <th>5</th>\n",
       "      <th>6</th>\n",
       "      <th>7</th>\n",
       "      <th>9</th>\n",
       "      <th>10</th>\n",
       "      <th>14</th>\n",
       "      <th>...</th>\n",
       "      <th>24</th>\n",
       "      <th>25</th>\n",
       "      <th>26</th>\n",
       "      <th>27</th>\n",
       "      <th>28</th>\n",
       "      <th>29</th>\n",
       "      <th>30</th>\n",
       "      <th>31</th>\n",
       "      <th>32</th>\n",
       "      <th>33</th>\n",
       "    </tr>\n",
       "    <tr>\n",
       "      <th>Source</th>\n",
       "      <th></th>\n",
       "      <th></th>\n",
       "      <th></th>\n",
       "      <th></th>\n",
       "      <th></th>\n",
       "      <th></th>\n",
       "      <th></th>\n",
       "      <th></th>\n",
       "      <th></th>\n",
       "      <th></th>\n",
       "      <th></th>\n",
       "      <th></th>\n",
       "      <th></th>\n",
       "      <th></th>\n",
       "      <th></th>\n",
       "      <th></th>\n",
       "      <th></th>\n",
       "      <th></th>\n",
       "      <th></th>\n",
       "      <th></th>\n",
       "      <th></th>\n",
       "    </tr>\n",
       "  </thead>\n",
       "  <tbody>\n",
       "    <tr>\n",
       "      <th>2</th>\n",
       "      <td>2</td>\n",
       "      <td>0</td>\n",
       "      <td>0</td>\n",
       "      <td>0</td>\n",
       "      <td>0</td>\n",
       "      <td>0</td>\n",
       "      <td>0</td>\n",
       "      <td>0</td>\n",
       "      <td>0</td>\n",
       "      <td>0</td>\n",
       "      <td>...</td>\n",
       "      <td>0</td>\n",
       "      <td>0</td>\n",
       "      <td>0</td>\n",
       "      <td>0</td>\n",
       "      <td>0</td>\n",
       "      <td>0</td>\n",
       "      <td>0</td>\n",
       "      <td>0</td>\n",
       "      <td>0</td>\n",
       "      <td>0</td>\n",
       "    </tr>\n",
       "    <tr>\n",
       "      <th>3</th>\n",
       "      <td>2</td>\n",
       "      <td>2</td>\n",
       "      <td>0</td>\n",
       "      <td>0</td>\n",
       "      <td>0</td>\n",
       "      <td>0</td>\n",
       "      <td>0</td>\n",
       "      <td>0</td>\n",
       "      <td>0</td>\n",
       "      <td>0</td>\n",
       "      <td>...</td>\n",
       "      <td>0</td>\n",
       "      <td>0</td>\n",
       "      <td>0</td>\n",
       "      <td>0</td>\n",
       "      <td>0</td>\n",
       "      <td>0</td>\n",
       "      <td>0</td>\n",
       "      <td>0</td>\n",
       "      <td>0</td>\n",
       "      <td>0</td>\n",
       "    </tr>\n",
       "    <tr>\n",
       "      <th>4</th>\n",
       "      <td>2</td>\n",
       "      <td>2</td>\n",
       "      <td>2</td>\n",
       "      <td>0</td>\n",
       "      <td>0</td>\n",
       "      <td>0</td>\n",
       "      <td>0</td>\n",
       "      <td>0</td>\n",
       "      <td>0</td>\n",
       "      <td>0</td>\n",
       "      <td>...</td>\n",
       "      <td>0</td>\n",
       "      <td>0</td>\n",
       "      <td>0</td>\n",
       "      <td>0</td>\n",
       "      <td>0</td>\n",
       "      <td>0</td>\n",
       "      <td>0</td>\n",
       "      <td>0</td>\n",
       "      <td>0</td>\n",
       "      <td>0</td>\n",
       "    </tr>\n",
       "    <tr>\n",
       "      <th>5</th>\n",
       "      <td>2</td>\n",
       "      <td>0</td>\n",
       "      <td>0</td>\n",
       "      <td>0</td>\n",
       "      <td>0</td>\n",
       "      <td>0</td>\n",
       "      <td>0</td>\n",
       "      <td>0</td>\n",
       "      <td>0</td>\n",
       "      <td>0</td>\n",
       "      <td>...</td>\n",
       "      <td>0</td>\n",
       "      <td>0</td>\n",
       "      <td>0</td>\n",
       "      <td>0</td>\n",
       "      <td>0</td>\n",
       "      <td>0</td>\n",
       "      <td>0</td>\n",
       "      <td>0</td>\n",
       "      <td>0</td>\n",
       "      <td>0</td>\n",
       "    </tr>\n",
       "    <tr>\n",
       "      <th>6</th>\n",
       "      <td>2</td>\n",
       "      <td>0</td>\n",
       "      <td>0</td>\n",
       "      <td>0</td>\n",
       "      <td>0</td>\n",
       "      <td>0</td>\n",
       "      <td>0</td>\n",
       "      <td>0</td>\n",
       "      <td>0</td>\n",
       "      <td>0</td>\n",
       "      <td>...</td>\n",
       "      <td>0</td>\n",
       "      <td>0</td>\n",
       "      <td>0</td>\n",
       "      <td>0</td>\n",
       "      <td>0</td>\n",
       "      <td>0</td>\n",
       "      <td>0</td>\n",
       "      <td>0</td>\n",
       "      <td>0</td>\n",
       "      <td>0</td>\n",
       "    </tr>\n",
       "  </tbody>\n",
       "</table>\n",
       "<p>5 rows × 26 columns</p>\n",
       "</div>"
      ],
      "text/plain": [
       "Target 1  2  3  4  5  6  7  9  10 14 ... 24 25 26 27 28 29 30 31 32 33\n",
       "Source                               ...                              \n",
       "2       2  0  0  0  0  0  0  0  0  0 ...  0  0  0  0  0  0  0  0  0  0\n",
       "3       2  2  0  0  0  0  0  0  0  0 ...  0  0  0  0  0  0  0  0  0  0\n",
       "4       2  2  2  0  0  0  0  0  0  0 ...  0  0  0  0  0  0  0  0  0  0\n",
       "5       2  0  0  0  0  0  0  0  0  0 ...  0  0  0  0  0  0  0  0  0  0\n",
       "6       2  0  0  0  0  0  0  0  0  0 ...  0  0  0  0  0  0  0  0  0  0\n",
       "\n",
       "[5 rows x 26 columns]"
      ]
     },
     "execution_count": 264,
     "metadata": {},
     "output_type": "execute_result"
    }
   ],
   "source": [
    "data_edges_jz.head()"
   ]
  },
  {
   "cell_type": "code",
   "execution_count": 265,
   "metadata": {
    "scrolled": true
   },
   "outputs": [
    {
     "data": {
      "text/plain": [
       "Int64Index([ 1,  2,  3,  4,  5,  6,  7,  9, 10, 14, 15, 16, 19, 20, 21, 23, 24,\n",
       "            25, 26, 27, 28, 29, 30, 31, 32, 33],\n",
       "           dtype='int64', name='Target')"
      ]
     },
     "execution_count": 265,
     "metadata": {},
     "output_type": "execute_result"
    }
   ],
   "source": [
    "data_edges_jz.columns"
   ]
  },
  {
   "cell_type": "code",
   "execution_count": 266,
   "metadata": {},
   "outputs": [
    {
     "data": {
      "text/plain": [
       "Int64Index([ 2,  3,  4,  5,  6,  7,  8,  9, 10, 11, 12, 13, 14, 17, 18, 20, 22,\n",
       "            26, 28, 29, 30, 31, 32, 33, 34],\n",
       "           dtype='int64', name='Source')"
      ]
     },
     "execution_count": 266,
     "metadata": {},
     "output_type": "execute_result"
    }
   ],
   "source": [
    "data_edges_jz.index"
   ]
  },
  {
   "cell_type": "markdown",
   "metadata": {},
   "source": [
    "### 生成gml"
   ]
  },
  {
   "cell_type": "code",
   "execution_count": 269,
   "metadata": {},
   "outputs": [],
   "source": [
    "with open(r'output_data\\data.gml','w') as fp_out:\n",
    "    fp_out.write(\"graph [\\n\")\n",
    "    for node,label in zip(data_id['Id'],data_id['Label']):\n",
    "        fp_out.write(\"\\tnode [\\n\")\n",
    "        fp_out.write(\"\\t\\tid \"+str(node)+\"\\n\")\n",
    "        fp_out.write(\"\\t\\tlabel \\\"\"+str(label)+\"\\\"\\n\")\n",
    "        # insert other node attributes here\n",
    "        fp_out.write(\"\\t]\\n\")\n",
    "    for node1 in data_edges_jz.index:\n",
    "        for node2 in data_edges_jz.columns:\n",
    "            if data_edges_jz.loc[node1,node2]!='0':\n",
    "                fp_out.write(\"\\tedge [\\n\")\n",
    "                fp_out.write(\"\\t\\tsource \"+str(node1)+\"\\n\")\n",
    "                fp_out.write(\"\\t\\ttarget \"+str(node2)+\"\\n\")\n",
    "                fp_out.write(\"\\t\\tvalue \"+str(data_edges_jz.loc[node1,node2])+\"\\n\")\n",
    "                # insert other edge attributes here\n",
    "                fp_out.write(\"\\t]\\n\")\n",
    "    fp_out.write(\"]\\t\")"
   ]
  },
  {
   "cell_type": "markdown",
   "metadata": {},
   "source": [
    "### 读入数据作图（ 测试gml数据是否可用 ）"
   ]
  },
  {
   "cell_type": "code",
   "execution_count": 271,
   "metadata": {},
   "outputs": [
    {
     "data": {
      "image/png": "[encoded data removed]",
      "text/plain": [
       "<matplotlib.figure.Figure at 0x2721c39d550>"
      ]
     },
     "metadata": {},
     "output_type": "display_data"
    }
   ],
   "source": [
    "import networkx as nx \n",
    "import matplotlib.pyplot as plt \n",
    "from networkx.algorithms.community import k_clique_communities\n",
    "G = nx.read_gml(\"output_data\\data.gml\")\n",
    "klist = list(k_clique_communities(G,3)) #list of k-cliques in the network. each element contains the nodes that consist the clique.\n",
    "\n",
    "#plotting\n",
    "pos = nx.spring_layout(G)\n",
    "plt.clf()\n",
    "nx.draw(G,pos = pos, with_labels=True)\n",
    "nx.draw(G,pos = pos, nodelist = klist[0], node_color = 'b')\n",
    "nx.draw(G,pos = pos, nodelist = klist[1], node_color = 'y')\n",
    "nx.draw(G,pos = pos, nodelist = klist[2], node_color = 'g')\n",
    "plt.show()"
   ]
  },
  {
   "cell_type": "markdown",
   "metadata": {},
   "source": [
    "### 构建模型 G-N模型"
   ]
  },
  {
   "cell_type": "code",
   "execution_count": 300,
   "metadata": {},
   "outputs": [],
   "source": [
    "# -*- coding: utf-8 -*-\n",
    "\n",
    "import networkx as nx\n",
    "import matplotlib.pyplot as plt\n",
    "import sys\n",
    "sys.path.append('../')\n",
    "\n",
    "class GN_w:\n",
    "    def __init__(self, G):\n",
    "        self.G_copy = G.copy()\n",
    "        self.G = G\n",
    "        self.partition = [[n for n in G.nodes()]]\n",
    "        self.all_Q = [0.0]\n",
    "        self.max_Q = 0.0\n",
    "    #Using max_Q to divide communities \n",
    "    def run(self):\n",
    "        while len(self.G.edges()) != 0:\n",
    "            edges={}\n",
    "            edges_betweenness_centrality = nx.edge_betweenness_centrality(self.G)            \n",
    "            for e, ebc in edges_betweenness_centrality.items():\n",
    "                edge_weight = ebc/self.G.get_edge_data(e[0],e[1])['value']\n",
    "                edges[e]=edge_weight               \n",
    "            edge = max(edges.items(), key=lambda item:item[1])[0]\n",
    "            self.G.remove_edge(edge[0], edge[1])\n",
    "            components = [list(c) for c in list(nx.connected_components(self.G))]\n",
    "            if len(components) != len(self.partition):\n",
    "                #compute the Q\n",
    "                cur_Q = self.cal_Q(components, self.G_copy)\n",
    "                if cur_Q not in self.all_Q:\n",
    "                    self.all_Q.append(cur_Q)\n",
    "                if cur_Q > self.max_Q:\n",
    "                    self.max_Q = cur_Q\n",
    "                    self.partition = components\n",
    "                    \n",
    "        print('-----------the Max Q and divided communities-----------')\n",
    "        print('The number of Communites:', len(self.partition))\n",
    "        print(\"Communites:\", self.partition)\n",
    "        print('Max_Q:', self.max_Q)\n",
    "        return self.partition, self.all_Q, self.max_Q\n",
    "        \n",
    "        \n",
    "    #the process of divding the network\n",
    "    #Return a list containing the result of each division, until each node is a community\n",
    "    def run_to_all(self):\n",
    "        divide = []\n",
    "        all_Q = []\n",
    "        while len(self.G.edges()) != 0:\n",
    "            edge = max(nx.edge_betweenness_centrality(self.G).items(),key=lambda item:item[1])[0]\n",
    "            self.G.remove_edge(edge[0], edge[1])\n",
    "            components = [list(c) for c in list(nx.connected_components(self.G))]\n",
    "            if components not in divide:\n",
    "                divide.append(components)\n",
    "            cur_Q = self.cal_Q(components, self.G_copy)\n",
    "            if cur_Q not in all_Q:\n",
    "                all_Q.append(cur_Q)\n",
    "        return divide, all_Q\n",
    "       \n",
    "#Drawing the graph of Q and divided communities\n",
    "    def draw_Q(self):\n",
    "        plt.plot([x for x in range(1,len(self.G.nodes)+1)],self.all_Q)\n",
    "        my_x_ticks = [x for x in range(1,len(self.G.nodes)+1)]\n",
    "        plt.xticks(my_x_ticks)\n",
    "        plt.axvline(len(self.partition),color='black',linestyle=\"--\")\n",
    "        #plt.axhline(self.all_Q[3],color='red',linestyle=\"--\")\n",
    "        plt.show()\n",
    "    \n",
    "    def add_group(self):\n",
    "        global nodegroup\n",
    "        num = 0\n",
    "        nodegroup = {}\n",
    "        for partition in self.partition:\n",
    "            for node in partition:\n",
    "                nodegroup[node] = {'group':num}\n",
    "        nx.set_node_attributes(self.G_copy, nodegroup)\n",
    "        \n",
    "    def to_gml(self):\n",
    "        nx.write_gml(self.G_copy, 'output_data\\outputofGN_weighted.gml')\n",
    "    \n",
    "#Computing the Q\n",
    "    def cal_Q(self,partition,G):\n",
    "        m = len(G.edges(None, False))\n",
    "        a = []\n",
    "        e = []    \n",
    "        for community in partition:\n",
    "            t = 0.0\n",
    "            for node in community:\n",
    "                t += len([x for x in G.neighbors(node)])\n",
    "            a.append(t/(2*m))        \n",
    "        for community in partition:\n",
    "            t = 0.0\n",
    "            for i in range(len(community)):\n",
    "                for j in range(len(community)):\n",
    "                    if(G.has_edge(community[i], community[j])):\n",
    "                        t += 1.0\n",
    "            e.append(t/(2*m))        \n",
    "        q = 0.0\n",
    "        for ei,ai in zip(e,a):\n",
    "            q += (ei - ai**2) \n",
    "        return q "
   ]
  },
  {
   "cell_type": "code",
   "execution_count": 301,
   "metadata": {},
   "outputs": [
    {
     "name": "stdout",
     "output_type": "stream",
     "text": [
      "-----------the Max Q and divided communities-----------\n",
      "The number of Communites: 5\n",
      "Communites: [['d', 'b', 'l', 't', 'h', 'm', 'n', 'r', 'v', 'a'], ['z', 'cc', 'c', 'y', 'ff', 'bb'], ['f', 'e', 'k', 'q', 'g'], ['ee', 'x', 'i', 'p', 'u', 'o', 's', 'aa', 'hh', 'gg', 'dd', 'w'], ['j']]\n",
      "Max_Q: 0.40129848783694944\n"
     ]
    },
    {
     "data": {
      "image/png": "[encoded data removed]",
      "text/plain": [
       "<matplotlib.figure.Figure at 0x2721c7ab198>"
      ]
     },
     "metadata": {},
     "output_type": "display_data"
    }
   ],
   "source": [
    "if __name__ == '__main__':\n",
    "    G=nx.read_gml('output_data\\data.gml')    \n",
    "    algorithm = GN_w(G)\n",
    "    algorithm.run()\n",
    "    algorithm.add_group()\n",
    "    algorithm.draw_Q()\n",
    "    algorithm.to_gml()"
   ]
  },
  {
   "cell_type": "markdown",
   "metadata": {},
   "source": [
    "### 分群可视化"
   ]
  },
  {
   "cell_type": "code",
   "execution_count": 275,
   "metadata": {
    "scrolled": true
   },
   "outputs": [
    {
     "data": {
      "image/png": "[encoded data removed]",
      "text/plain": [
       "<matplotlib.figure.Figure at 0x2721c562f98>"
      ]
     },
     "metadata": {},
     "output_type": "display_data"
    }
   ],
   "source": [
    "G = nx.read_gml(\"output_data\\outputofGN_weighted.gml\")\n",
    "# klist = list(k_clique_communities(G,3)) #list of k-cliques in the network. each element contains the nodes that consist the clique.\n",
    "\n",
    "#plotting\n",
    "pos = nx.spring_layout(G)\n",
    "plt.clf()\n",
    "# nx.draw(G,pos = pos, with_labels=True,node_color=node_color)\n",
    "nx.draw(G,pos = pos, nodelist = frozenset([str(i) for i in algorithm.partition[0]]), node_color = 'b',with_labels=True)\n",
    "nx.draw(G,pos = pos, nodelist = frozenset([str(i) for i in algorithm.partition[1]]), node_color = 'y')\n",
    "nx.draw(G,pos = pos, nodelist = frozenset([str(i) for i in algorithm.partition[2]]), node_color = 'g')\n",
    "nx.draw(G,pos = pos, nodelist = frozenset([str(i) for i in algorithm.partition[3]]), node_color = 'r')\n",
    "nx.draw(G,pos = pos, nodelist = frozenset([str(i) for i in algorithm.partition[4]]), node_color = 'purple')\n",
    "plt.show()"
   ]
  },
  {
   "cell_type": "markdown",
   "metadata": {},
   "source": [
    "## 整理分群结果并导出"
   ]
  },
  {
   "cell_type": "code",
   "execution_count": 276,
   "metadata": {},
   "outputs": [
    {
     "data": {
      "text/plain": [
       "[['d', 'b', 'l', 't', 'h', 'm', 'n', 'r', 'v', 'a'],\n",
       " ['z', 'cc', 'c', 'y', 'ff', 'bb'],\n",
       " ['f', 'e', 'k', 'q', 'g'],\n",
       " ['ee', 'x', 'i', 'p', 'u', 'o', 's', 'aa', 'hh', 'gg', 'dd', 'w'],\n",
       " ['j']]"
      ]
     },
     "execution_count": 276,
     "metadata": {},
     "output_type": "execute_result"
    }
   ],
   "source": [
    "algorithm.partition"
   ]
  },
  {
   "cell_type": "code",
   "execution_count": 285,
   "metadata": {},
   "outputs": [],
   "source": [
    "def creat_group(x):          \n",
    "    y='null'\n",
    "    for i in range(0,len(algorithm.partition)):\n",
    "        if x in set(algorithm.partition[i]):\n",
    "            y=str(i)\n",
    "    return y"
   ]
  },
  {
   "cell_type": "code",
   "execution_count": 286,
   "metadata": {
    "scrolled": true
   },
   "outputs": [],
   "source": [
    "data_id['group']=data_id['Label'].map(creat_group)"
   ]
  },
  {
   "cell_type": "code",
   "execution_count": 287,
   "metadata": {
    "scrolled": true
   },
   "outputs": [
    {
     "data": {
      "text/html": [
       "<div>\n",
       "<style scoped>\n",
       "    .dataframe tbody tr th:only-of-type {\n",
       "        vertical-align: middle;\n",
       "    }\n",
       "\n",
       "    .dataframe tbody tr th {\n",
       "        vertical-align: top;\n",
       "    }\n",
       "\n",
       "    .dataframe thead th {\n",
       "        text-align: right;\n",
       "    }\n",
       "</style>\n",
       "<table border=\"1\" class=\"dataframe\">\n",
       "  <thead>\n",
       "    <tr style=\"text-align: right;\">\n",
       "      <th></th>\n",
       "      <th>Id</th>\n",
       "      <th>Label</th>\n",
       "      <th>group</th>\n",
       "    </tr>\n",
       "  </thead>\n",
       "  <tbody>\n",
       "    <tr>\n",
       "      <th>0</th>\n",
       "      <td>1</td>\n",
       "      <td>a</td>\n",
       "      <td>0</td>\n",
       "    </tr>\n",
       "    <tr>\n",
       "      <th>1</th>\n",
       "      <td>2</td>\n",
       "      <td>b</td>\n",
       "      <td>0</td>\n",
       "    </tr>\n",
       "    <tr>\n",
       "      <th>2</th>\n",
       "      <td>3</td>\n",
       "      <td>c</td>\n",
       "      <td>1</td>\n",
       "    </tr>\n",
       "    <tr>\n",
       "      <th>3</th>\n",
       "      <td>4</td>\n",
       "      <td>d</td>\n",
       "      <td>0</td>\n",
       "    </tr>\n",
       "    <tr>\n",
       "      <th>4</th>\n",
       "      <td>5</td>\n",
       "      <td>e</td>\n",
       "      <td>2</td>\n",
       "    </tr>\n",
       "  </tbody>\n",
       "</table>\n",
       "</div>"
      ],
      "text/plain": [
       "   Id Label group\n",
       "0   1     a     0\n",
       "1   2     b     0\n",
       "2   3     c     1\n",
       "3   4     d     0\n",
       "4   5     e     2"
      ]
     },
     "execution_count": 287,
     "metadata": {},
     "output_type": "execute_result"
    }
   ],
   "source": [
    "data_id.head()"
   ]
  },
  {
   "cell_type": "code",
   "execution_count": 288,
   "metadata": {},
   "outputs": [],
   "source": [
    "data_id.to_excel(r'output_data/result_data.xlsx')"
   ]
  }
 ],
 "metadata": {
  "kernelspec": {
   "display_name": "Python 3",
   "language": "python",
   "name": "python3"
  },
  "language_info": {
   "codemirror_mode": {
    "name": "ipython",
    "version": 3
   },
   "file_extension": ".py",
   "mimetype": "text/x-python",
   "name": "python",
   "nbconvert_exporter": "python",
   "pygments_lexer": "ipython3",
   "version": "3.6.4"
  }
 },
 "nbformat": 4,
 "nbformat_minor": 2
}
